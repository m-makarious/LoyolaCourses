{
 "cells": [
  {
   "cell_type": "code",
   "execution_count": 27,
   "metadata": {
    "collapsed": false
   },
   "outputs": [
    {
     "name": "stdout",
     "output_type": "stream",
     "text": [
      "Training data: \n",
      "               datetime  season  holiday  workingday  weather  temp   atemp  \\\n",
      "0  2011-01-01 00:00:00       1        0           0        1  9.84  14.395   \n",
      "1  2011-01-01 01:00:00       1        0           0        1  9.02  13.635   \n",
      "2  2011-01-01 02:00:00       1        0           0        1  9.02  13.635   \n",
      "3  2011-01-01 03:00:00       1        0           0        1  9.84  14.395   \n",
      "4  2011-01-01 04:00:00       1        0           0        1  9.84  14.395   \n",
      "\n",
      "   humidity  windspeed  casual  registered  count  \n",
      "0        81          0       3          13     16  \n",
      "1        80          0       8          32     40  \n",
      "2        80          0       5          27     32  \n",
      "3        75          0       3          10     13  \n",
      "4        75          0       0           1      1   \n",
      "\n",
      "Testing data: \n",
      "               datetime  season  holiday  workingday  weather   temp   atemp  \\\n",
      "0  2011-01-20 00:00:00       1        0           1        1  10.66  11.365   \n",
      "1  2011-01-20 01:00:00       1        0           1        1  10.66  13.635   \n",
      "2  2011-01-20 02:00:00       1        0           1        1  10.66  13.635   \n",
      "3  2011-01-20 03:00:00       1        0           1        1  10.66  12.880   \n",
      "4  2011-01-20 04:00:00       1        0           1        1  10.66  12.880   \n",
      "\n",
      "   humidity  windspeed  \n",
      "0        56    26.0027  \n",
      "1        56     0.0000  \n",
      "2        56     0.0000  \n",
      "3        56    11.0014  \n",
      "4        56    11.0014   \n",
      "\n"
     ]
    }
   ],
   "source": [
    "#Mary Makarious\n",
    "\n",
    "# Importing necessary packages\n",
    "import pandas\n",
    "import numpy\n",
    "import math\n",
    "from sklearn.tree import DecisionTreeClassifier\n",
    "from sklearn.tree import DecisionTreeRegressor\n",
    "from sklearn.ensemble import RandomForestRegressor\n",
    "from sklearn.ensemble import RandomForestClassifier\n",
    "from sklearn.neighbors import KNeighborsClassifier\n",
    "from sklearn import linear_model\n",
    "from sklearn import svm\n",
    "from sklearn import cross_validation\n",
    "from datetime import datetime\n",
    "\n",
    "\n",
    "#Reading training data\n",
    "train_set = pandas.read_csv(\"train.csv\")\n",
    "#Reading testing data\n",
    "test_set = pandas.read_csv(\"test.csv\")\n",
    "\n",
    "#Printing data read\n",
    "print(\"Training data: \\n\", train_set.head(), \"\\n\")\n",
    "print(\"Testing data: \\n\", test_set.head(), \"\\n\")"
   ]
  },
  {
   "cell_type": "code",
   "execution_count": 43,
   "metadata": {
    "collapsed": false
   },
   "outputs": [
    {
     "name": "stdout",
     "output_type": "stream",
     "text": [
      "Training data: \n",
      "               datetime  season  holiday  workingday  weather  temp   atemp  \\\n",
      "0  2011-01-01 00:00:00       1        0           0        1  9.84  14.395   \n",
      "1  2011-01-01 01:00:00       1        0           0        1  9.02  13.635   \n",
      "2  2011-01-01 02:00:00       1        0           0        1  9.02  13.635   \n",
      "3  2011-01-01 03:00:00       1        0           0        1  9.84  14.395   \n",
      "4  2011-01-01 04:00:00       1        0           0        1  9.84  14.395   \n",
      "\n",
      "   humidity  windspeed  casual  registered  count  month  hour  minute  \n",
      "0        81          0       3          13     16      1     0       0  \n",
      "1        80          0       8          32     40      1     1       0  \n",
      "2        80          0       5          27     32      1     2       0  \n",
      "3        75          0       3          10     13      1     3       0  \n",
      "4        75          0       0           1      1      1     4       0   \n",
      "\n",
      "Testing data: \n",
      "               datetime  season  holiday  workingday  weather   temp   atemp  \\\n",
      "0  2011-01-20 00:00:00       1        0           1        1  10.66  11.365   \n",
      "1  2011-01-20 01:00:00       1        0           1        1  10.66  13.635   \n",
      "2  2011-01-20 02:00:00       1        0           1        1  10.66  13.635   \n",
      "3  2011-01-20 03:00:00       1        0           1        1  10.66  12.880   \n",
      "4  2011-01-20 04:00:00       1        0           1        1  10.66  12.880   \n",
      "\n",
      "   humidity  windspeed  month  hour  minute  \n",
      "0        56    26.0027      1     0       0  \n",
      "1        56     0.0000      1     1       0  \n",
      "2        56     0.0000      1     2       0  \n",
      "3        56    11.0014      1     3       0  \n",
      "4        56    11.0014      1     4       0   \n",
      "\n"
     ]
    }
   ],
   "source": [
    "#Get month of formatted string\n",
    "def get_month(date_string):\n",
    "    #Documentation:\n",
    "    #https://docs.python.org/2/library/datetime.html#strftime-strptime-behavior\n",
    "    return datetime.strptime(date_string, \"%Y-%m-%d %H:%M:%S\").date().month\n",
    "\n",
    "#Get hour of formatted string\n",
    "def get_hour(date_string):\n",
    "    #Documentation:\n",
    "    #https://docs.python.org/2/library/datetime.html#strftime-strptime-behavior\n",
    "    return datetime.strptime(date_string, \"%Y-%m-%d %H:%M:%S\").hour\n",
    "\n",
    "#Adding a new feature by applying the function get_month to each\n",
    "#datetime entry of the .csv file\n",
    "train_set['month'] = train_set['datetime'].map(get_month)\n",
    "test_set['month'] = test_set['datetime'].map(get_month)\n",
    "\n",
    "#Adding a new feature by applying the function get_hour to each\n",
    "#datetime entry of the .csv file\n",
    "train_set['hour'] = train_set['datetime'].map(get_hour)\n",
    "test_set['hour'] = test_set['datetime'].map(get_hour)\n",
    "\n",
    "\n",
    "#Printing new data\n",
    "print(\"Training data: \\n\", train_set.head(), \"\\n\")\n",
    "print(\"Testing data: \\n\", test_set.head(), \"\\n\")"
   ]
  },
  {
   "cell_type": "code",
   "execution_count": 53,
   "metadata": {
    "collapsed": false
   },
   "outputs": [
    {
     "name": "stdout",
     "output_type": "stream",
     "text": [
      "Root Mean Squared error:  2.936593179123362\n"
     ]
    }
   ],
   "source": [
    "def cross_val(model, features, count):\n",
    "    #Creating KFold cross validation object. Divides data in n_folds groups, learns with (n_folds - 1) and applies to the \n",
    "    #remaining one\n",
    "    #Documentation:\n",
    "    #http://scikit-learn.org/stable/modules/generated/sklearn.cross_validation.KFold.html\n",
    "    kf = cross_validation.KFold(n = len(features), n_folds = 15, indices = None, shuffle = True, random_state = 5)\n",
    "    #Applies \n",
    "    #Documentation:\n",
    "    #http://scikit-learn.org/stable/modules/generated/sklearn.cross_validation.cross_val_score.html\n",
    "    scoreArray = cross_validation.cross_val_score(model, features, count, scoring='mean_squared_error', cv = kf, n_jobs = 1)\n",
    "    #Get the mean of the scores\n",
    "    score = numpy.mean(scoreArray)\n",
    "    #Return the Root of the absolute value of the score\n",
    "    return math.sqrt(math.fabs(score))\n",
    "\n",
    "#Preparing training data\n",
    "#These are the features that will be used to train the classifier\n",
    "#After adding new features, we will have to manually add their name to this list\n",
    "features = ['season','holiday','workingday','weather','temp','atemp','humidity','windspeed', 'month','hour','casual','registered']\n",
    "#Getting the desired features from the training set\n",
    "features_train = train_set[features]\n",
    "#Getting the labels of the data contained in the training set\n",
    "count_train = train_set['count']\n",
    "\n",
    "#Feeding classifier with training data\n",
    "#Can be changed to other classifiers, such as LogisticRegression,\n",
    "#KNearestNeighbors etc.\n",
    "\n",
    "#Try changing it! The output may take a while to appear\n",
    "#model = KNeighborsClassifier(n_neighbors=10, weights = 'uniform')\n",
    "#model = DecisionTreeClassifier(random_state = 0)\n",
    "#model = DecisionTreeRegressor(random_state=0)\n",
    "model = RandomForestRegressor(n_estimators = 50)\n",
    "#model = RandomForestClassifier(n_estimators = 30)\n",
    "model.fit(features_train, count_train)\n",
    "\n",
    "#Running cross validation to evaluate performance of our model\n",
    "#Smaller values are desired\n",
    "error = cross_val(model, features_train, count_train)\n",
    "\n",
    "#Printing Root Mean Squared Error\n",
    "print(\"Root Mean Squared error: \", error)"
   ]
  },
  {
   "cell_type": "code",
   "execution_count": 35,
   "metadata": {
    "collapsed": false
   },
   "outputs": [
    {
     "name": "stdout",
     "output_type": "stream",
     "text": [
      "Predicted: \n",
      " [ 237.8          58.11666667   58.11666667 ...,  175.86666667  113.06\n",
      "   83.16111111]\n"
     ]
    }
   ],
   "source": [
    "#Now we will feed the classifier with the test data, so that we can\n",
    "#classify it\n",
    "#Getting desired features from the testing set\n",
    "features_test = test_set[features]\n",
    "\n",
    "#Predicting it\n",
    "predicted = model.predict(features_test)\n",
    "\n",
    "#Printing predicted values\n",
    "print(\"Predicted: \\n\", predicted)"
   ]
  },
  {
   "cell_type": "code",
   "execution_count": 36,
   "metadata": {
    "collapsed": true
   },
   "outputs": [],
   "source": [
    "#Creating new DataFrame that will be used to write the results on a .csv\n",
    "#file\n",
    "#One column named 'count' that has the predicted list as its rows\n",
    "data = {'count' : predicted}\n",
    "#DataFrame will have the datetimes as the index of the predicted values\n",
    "data_frame = pandas.DataFrame(data = data, index = test_set['datetime'])\n",
    "\n",
    "#Writing to .csv file\n",
    "data_frame.to_csv(\"bike_sharing.csv\")"
   ]
  },
  {
   "cell_type": "code",
   "execution_count": null,
   "metadata": {
    "collapsed": true
   },
   "outputs": [],
   "source": []
  }
 ],
 "metadata": {
  "kernelspec": {
   "display_name": "Python 3",
   "language": "python",
   "name": "python3"
  },
  "language_info": {
   "codemirror_mode": {
    "name": "ipython",
    "version": 3
   },
   "file_extension": ".py",
   "mimetype": "text/x-python",
   "name": "python",
   "nbconvert_exporter": "python",
   "pygments_lexer": "ipython3",
   "version": "3.4.3"
  }
 },
 "nbformat": 4,
 "nbformat_minor": 0
}
