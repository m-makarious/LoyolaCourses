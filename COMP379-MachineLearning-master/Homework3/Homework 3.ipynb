{
 "cells": [
  {
   "cell_type": "markdown",
   "metadata": {},
   "source": [
    "# Classification -- Homework 3\n",
    "\n",
    "### Basic Information:\n",
    "Dataset Used: Iris Dataset. SVM vs. kNN Comparison\n",
    "\n",
    "##### Split the dataset into \n",
    "- 70% for the training set\n",
    "- 15% for the development set\n",
    "- 15% for the test set\n",
    "\n",
    "Figure out an appropriate evaluation metric -- comparison to the SVM  techniques.\n",
    "For kNN -- the best k value was found and reported after going through a range of numbers."
   ]
  },
  {
   "cell_type": "code",
   "execution_count": 3,
   "metadata": {
    "collapsed": true
   },
   "outputs": [],
   "source": [
    "# Mary B. Makarious\n",
    "# Homework 3 -- Classification"
   ]
  },
  {
   "cell_type": "code",
   "execution_count": 4,
   "metadata": {
    "collapsed": false
   },
   "outputs": [],
   "source": [
    "# Import Packages \n",
    "\n",
    "import numpy as np\n",
    "import pandas as pd # data analysis tools\n",
    "import matplotlib.pyplot as plt # to visualize the data\n",
    "import seaborn as sns\n",
    "import math\n",
    "from sklearn import svm, datasets\n",
    "import sklearn.metrics as met\n",
    "from sklearn.metrics import accuracy_score, f1_score\n",
    "\n",
    "# Keep everything in Jupyter\n",
    "%matplotlib inline \n",
    "\n",
    "# Ignore several specific Pandas warnings\n",
    "import warnings\n",
    "warnings.filterwarnings(\"ignore\")"
   ]
  },
  {
   "cell_type": "code",
   "execution_count": 5,
   "metadata": {
    "collapsed": false,
    "scrolled": true
   },
   "outputs": [
    {
     "name": "stdout",
     "output_type": "stream",
     "text": [
      "     index  sepal_length  sepal_width  petal_length  petal_width     species\n",
      "0       63           6.1          2.9           4.7          1.4  versicolor\n",
      "1       52           6.9          3.1           4.9          1.5  versicolor\n",
      "2      147           6.5          3.0           5.2          2.0   virginica\n",
      "3      110           6.5          3.2           5.1          2.0   virginica\n",
      "4       97           6.2          2.9           4.3          1.3  versicolor\n",
      "5      137           6.4          3.1           5.5          1.8   virginica\n",
      "6       11           4.8          3.4           1.6          0.2      setosa\n",
      "7       93           5.0          2.3           3.3          1.0  versicolor\n",
      "8      101           5.8          2.7           5.1          1.9   virginica\n",
      "9      130           7.4          2.8           6.1          1.9   virginica\n",
      "10     127           6.1          3.0           4.9          1.8   virginica\n",
      "11     144           6.7          3.3           5.7          2.5   virginica\n",
      "12     142           5.8          2.7           5.1          1.9   virginica\n",
      "13      84           5.4          3.0           4.5          1.5  versicolor\n",
      "14      56           6.3          3.3           4.7          1.6  versicolor\n",
      "15      17           5.1          3.5           1.4          0.3      setosa\n",
      "16      51           6.4          3.2           4.5          1.5  versicolor\n",
      "17     115           6.4          3.2           5.3          2.3   virginica\n",
      "18     100           6.3          3.3           6.0          2.5   virginica\n",
      "19      30           4.8          3.1           1.6          0.2      setosa\n",
      "20      69           5.6          2.5           3.9          1.1  versicolor\n",
      "21       9           4.9          3.1           1.5          0.1      setosa\n",
      "22      55           5.7          2.8           4.5          1.3  versicolor\n",
      "23      58           6.6          2.9           4.6          1.3  versicolor\n",
      "24     125           7.2          3.2           6.0          1.8   virginica\n",
      "25      41           4.5          2.3           1.3          0.3      setosa\n",
      "26      31           5.4          3.4           1.5          0.4      setosa\n",
      "27     133           6.3          2.8           5.1          1.5   virginica\n",
      "28      34           4.9          3.1           1.5          0.2      setosa\n",
      "29      91           6.1          3.0           4.6          1.4  versicolor\n",
      "..     ...           ...          ...           ...          ...         ...\n",
      "75      73           6.1          2.8           4.7          1.2  versicolor\n",
      "76     121           5.6          2.8           4.9          2.0   virginica\n",
      "77      94           5.6          2.7           4.2          1.3  versicolor\n",
      "78     132           6.4          2.8           5.6          2.2   virginica\n",
      "79      27           5.2          3.5           1.5          0.2      setosa\n",
      "80      99           5.7          2.8           4.1          1.3  versicolor\n",
      "81      96           5.7          2.9           4.2          1.3  versicolor\n",
      "82     117           7.7          3.8           6.7          2.2   virginica\n",
      "83      90           5.5          2.6           4.4          1.2  versicolor\n",
      "84     111           6.4          2.7           5.3          1.9   virginica\n",
      "85     145           6.7          3.0           5.2          2.3   virginica\n",
      "86      45           4.8          3.0           1.4          0.3      setosa\n",
      "87     118           7.7          2.6           6.9          2.3   virginica\n",
      "88     123           6.3          2.7           4.9          1.8   virginica\n",
      "89      32           5.2          4.1           1.5          0.1      setosa\n",
      "90      87           6.3          2.3           4.4          1.3  versicolor\n",
      "91     129           7.2          3.0           5.8          1.6   virginica\n",
      "92      40           5.0          3.5           1.3          0.3      setosa\n",
      "93     136           6.3          3.4           5.6          2.4   virginica\n",
      "94      53           5.5          2.3           4.0          1.3  versicolor\n",
      "95     103           6.3          2.9           5.6          1.8   virginica\n",
      "96     138           6.0          3.0           4.8          1.8   virginica\n",
      "97     126           6.2          2.8           4.8          1.8   virginica\n",
      "98      28           5.2          3.4           1.4          0.2      setosa\n",
      "99     146           6.3          2.5           5.0          1.9   virginica\n",
      "100    140           6.7          3.1           5.6          2.4   virginica\n",
      "101     36           5.5          3.5           1.3          0.2      setosa\n",
      "102    124           6.7          3.3           5.7          2.1   virginica\n",
      "103     19           5.1          3.8           1.5          0.3      setosa\n",
      "104     26           5.0          3.4           1.6          0.4      setosa\n",
      "\n",
      "[105 rows x 6 columns]\n",
      "----------------\n",
      "    index  sepal_length  sepal_width  petal_length  petal_width     species\n",
      "0       0           5.1          3.5           1.4          0.2      setosa\n",
      "1     128           6.4          2.8           5.6          2.1   virginica\n",
      "2       2           4.7          3.2           1.3          0.2      setosa\n",
      "3      67           5.8          2.7           4.1          1.0  versicolor\n",
      "4     113           5.7          2.5           5.0          2.0   virginica\n",
      "5     112           6.8          3.0           5.5          2.1   virginica\n",
      "6      35           5.0          3.2           1.2          0.2      setosa\n",
      "7       6           4.6          3.4           1.4          0.3      setosa\n",
      "8     135           7.7          3.0           6.1          2.3   virginica\n",
      "9      18           5.7          3.8           1.7          0.3      setosa\n",
      "10     44           5.1          3.8           1.9          0.4      setosa\n",
      "11    134           6.1          2.6           5.6          1.4   virginica\n",
      "12     83           6.0          2.7           5.1          1.6  versicolor\n",
      "13     76           6.8          2.8           4.8          1.4  versicolor\n",
      "14     16           5.4          3.9           1.3          0.4      setosa\n",
      "15     74           6.4          2.9           4.3          1.3  versicolor\n",
      "16     50           7.0          3.2           4.7          1.4  versicolor\n",
      "17     71           6.1          2.8           4.0          1.3  versicolor\n",
      "18     72           6.3          2.5           4.9          1.5  versicolor\n",
      "19     29           4.7          3.2           1.6          0.2      setosa\n",
      "20     23           5.1          3.3           1.7          0.5      setosa\n",
      "21      3           4.6          3.1           1.5          0.2      setosa\n",
      "22     66           5.6          3.0           4.5          1.5  versicolor\n",
      "----------------\n",
      "    index  sepal_length  sepal_width  petal_length  petal_width     species\n",
      "0      43           5.0          3.5           1.6          0.6      setosa\n",
      "1      61           5.9          3.0           4.2          1.5  versicolor\n",
      "2      47           4.6          3.2           1.4          0.2      setosa\n",
      "3      20           5.4          3.4           1.7          0.2      setosa\n",
      "4     149           5.9          3.0           5.1          1.8   virginica\n",
      "5      70           5.9          3.2           4.8          1.8  versicolor\n",
      "6      60           5.0          2.0           3.5          1.0  versicolor\n",
      "7      98           5.1          2.5           3.0          1.1  versicolor\n",
      "8      62           6.0          2.2           4.0          1.0  versicolor\n",
      "9     109           7.2          3.6           6.1          2.5   virginica\n",
      "10     42           4.4          3.2           1.3          0.2      setosa\n",
      "11    116           6.5          3.0           5.5          1.8   virginica\n",
      "12    119           6.0          2.2           5.0          1.5   virginica\n",
      "13     39           5.1          3.4           1.5          0.2      setosa\n",
      "14     85           6.0          3.4           4.5          1.6  versicolor\n",
      "15    143           6.8          3.2           5.9          2.3   virginica\n",
      "16    148           6.2          3.4           5.4          2.3   virginica\n",
      "17     15           5.7          4.4           1.5          0.4      setosa\n",
      "18    122           7.7          2.8           6.7          2.0   virginica\n",
      "19     59           5.2          2.7           3.9          1.4  versicolor\n",
      "20    114           5.8          2.8           5.1          2.4   virginica\n",
      "21     24           4.8          3.4           1.9          0.2      setosa\n"
     ]
    }
   ],
   "source": [
    "# Iris dataset that comes with the seaborn package\n",
    "data_init = sns.load_dataset('iris')\n",
    "data = data_init.reindex(np.random.permutation(data_init.index))\n",
    "\n",
    "rows = len(data)\n",
    "columns = len(data.keys())\n",
    "\n",
    "# Split the data into the train, test, and development sets\n",
    "\n",
    "percent_15_1_start = 0 # test set\n",
    "percent_15_2_start = int(rows * 0.15) # development set \n",
    "percent_70_start = int(rows * 0.3) # train set\n",
    "\n",
    "test = data[percent_15_1_start:percent_15_2_start].reset_index()\n",
    "development = data[percent_15_2_start:percent_70_start].reset_index()\n",
    "train = data[percent_70_start:rows].reset_index()\n",
    "\n",
    "# Print out the Datasets \n",
    "\n",
    "print(train)\n",
    "print('-'*16)\n",
    "print(development)\n",
    "print('-'*16)\n",
    "print(test)"
   ]
  },
  {
   "cell_type": "markdown",
   "metadata": {},
   "source": [
    "## Problem 1 -- Training a Classifier \n",
    "\n",
    "- Use logistic regression or SVM implementations in scikit-learn.\n",
    "- Use the default classifier parameters. \n",
    "- Evaluate your classifier on the development set.\n",
    "\n",
    "SVC with 'poly' (polynomial) Kernel Used -- Default Parameters"
   ]
  },
  {
   "cell_type": "code",
   "execution_count": 24,
   "metadata": {
    "collapsed": false
   },
   "outputs": [
    {
     "name": "stdout",
     "output_type": "stream",
     "text": [
      "SVM Prediction Accuracy =  97.1%\n"
     ]
    }
   ],
   "source": [
    "iris = datasets.load_iris()\n",
    "data = data_init.reindex(np.random.permutation(data_init.index))\n",
    "\n",
    "# Default parameters:\n",
    "# C=1.0, kernel='rbf', degree=3, gamma='auto', coef0=0.0, shrinking=True, probability=False, tol=0.001, cache_size=200, class_weight=None, verbose=False, max_iter=-1, decision_function_shape=None, random_state=None\n",
    "\n",
    "svc = svm.SVC(kernel='poly', C=1.0)\n",
    "svc.fit(train[['petal_length', 'petal_width']], train['species'])\n",
    "print(\"SVM Prediction Accuracy = {0:5.1f}%\".format(100.0 * svc.score(train[['petal_length', 'petal_width']], train['species'])))"
   ]
  },
  {
   "cell_type": "markdown",
   "metadata": {},
   "source": [
    "## Problem 2 -- Improving Model Performance\n",
    "\n",
    "- Tweak the classifier parameters to improve your model’s performance on the development set.\n",
    "\n",
    "##### Parameters Used:\n",
    "- gamma: 1/n_features used when 'auto'\n",
    "- max_iter: -1 means no limit\n",
    "- probability: Probability estimates\n",
    "- shrinking: Shrinking heuristic -- avoid heuristic so you can focus on accuracy\n",
    "- tol: Tolerance for stopping\n",
    "- degree: Degree of the polynomial function \n",
    "- random_state: Random number generator to use when shuffling the data for probability estimation"
   ]
  },
  {
   "cell_type": "code",
   "execution_count": 25,
   "metadata": {
    "collapsed": false
   },
   "outputs": [
    {
     "name": "stdout",
     "output_type": "stream",
     "text": [
      "SVM Prediction Accuracy w/ Parameter Changes =  99.0%\n"
     ]
    }
   ],
   "source": [
    "iris = datasets.load_iris()\n",
    "data = data_init.reindex(np.random.permutation(data_init.index))\n",
    "\n",
    "svc = svm.SVC(kernel='poly', C=1.0, gamma='auto', max_iter=-1, probability=False, shrinking=False, degree=6, tol=0.0005, random_state=1000)\n",
    "svc.fit(train[['petal_length', 'petal_width']], train['species'])\n",
    "\n",
    "print(\"SVM Prediction Accuracy w/ Parameter Changes = {0:5.1f}%\".format(100.0 * svc.score(train[['petal_length', 'petal_width']], train['species'])))"
   ]
  },
  {
   "cell_type": "markdown",
   "metadata": {},
   "source": [
    "Changing and tweaking the parameters did not seem to really make the prediction that much better. This could be because the we are using the iris dataset."
   ]
  },
  {
   "cell_type": "markdown",
   "metadata": {},
   "source": [
    "## Problem 3 -- Implementing kNN\n",
    "\n",
    "- kNN: k-nearest neighbors classifier.\n",
    "- Tune the k value to achive the best possible performance on the development set.\n",
    "\n",
    "kNN works off of the 'distance' between data points, so first thing to do is to get that distance.\n",
    "Then, in the case of the iris dataset, we see how many of each type there are in the list of closest neighbors.\n",
    "Then the type with the most is the type that we classify our point as the neighbor."
   ]
  },
  {
   "cell_type": "code",
   "execution_count": 41,
   "metadata": {
    "collapsed": false
   },
   "outputs": [],
   "source": [
    "def classify(point, dataset, k):\n",
    "    distances = []\n",
    "    indices = [] \n",
    "    \n",
    "    sorted_distances = []\n",
    "    sorted_indices = []\n",
    "    \n",
    "    for i in range(0, len(dataset)):\n",
    "        petal_length_delta = dataset['petal_length'][i] - point['petal_length']\n",
    "        petal_width_delta = dataset['petal_width'][i] - point['petal_width']\n",
    "        distance = math.sqrt(petal_length_delta ** 2 + petal_width_delta ** 2)\n",
    "        distances.append(distance)\n",
    "        indices.append(i)\n",
    "        \n",
    "    for i in range(0, len(dataset)):\n",
    "        min_dist = min(distances)\n",
    "        index = distances.index(min_dist)\n",
    "        min_i = indices[index]\n",
    "        sorted_distances.append(min_dist)\n",
    "        sorted_indices.append(min_i)\n",
    "        del(distances[index])\n",
    "        del(indices[index])\n",
    "        \n",
    "# Different species \n",
    "    setosas = 0\n",
    "    virginicas = 0\n",
    "    versicolors = 0\n",
    "    species = ''\n",
    "    \n",
    "    for i in range(0, k):\n",
    "        if dataset['species'][sorted_indices[i]] == 'setosa':\n",
    "            setosas = setosas + 1\n",
    "        elif dataset['species'][sorted_indices[i]] == 'virginica':\n",
    "            virginicas = virginicas + 1\n",
    "        elif dataset['species'][sorted_indices[i]] == 'versicolor':\n",
    "            versicolors = versicolors + 1\n",
    "    \n",
    "    if setosas >= virginicas and setosas >= versicolors:\n",
    "        species = 'setosa'\n",
    "    elif virginicas >= setosas and virginicas >= versicolors:\n",
    "        species = 'virginica'\n",
    "    else:\n",
    "        species = 'versicolor'\n",
    "    \n",
    "    return species"
   ]
  },
  {
   "cell_type": "code",
   "execution_count": 42,
   "metadata": {
    "collapsed": false
   },
   "outputs": [],
   "source": [
    "# Checks how many are correct vs how many are not\n",
    "def get_accuracy(data_list, test_data):\n",
    "    correct_species_list = test_data['species']\n",
    "    tot_num = len(data_list)\n",
    "    num_correct = 0\n",
    "    \n",
    "    for i in range(0, len(data_list)):\n",
    "        if correct_species_list[i] == data_list[i]:\n",
    "            num_correct = num_correct + 1\n",
    "    \n",
    "    return num_correct / tot_num * 100"
   ]
  },
  {
   "cell_type": "code",
   "execution_count": 43,
   "metadata": {
    "collapsed": false
   },
   "outputs": [
    {
     "name": "stdout",
     "output_type": "stream",
     "text": [
      "k value of: 9 -- accuracy: 95.65217391304348%\n"
     ]
    }
   ],
   "source": [
    "# loop through k values to see which is the best\n",
    "\n",
    "for k in range(0, 10):\n",
    "    k_Results = []\n",
    "    for i in range(0, len(development)):\n",
    "        k_Results.append(classify(development.iloc[[i]], train, k))\n",
    "print('k value of: {} -- accuracy: {}%'.format(k, get_accuracy(k_Results, development)))"
   ]
  },
  {
   "cell_type": "markdown",
   "metadata": {},
   "source": [
    "## Problem 4 -- Comparing\n",
    "\n",
    "- Compare your best model you built in step (2) to your best kNN model by evaluating them on the test set."
   ]
  },
  {
   "cell_type": "code",
   "execution_count": 26,
   "metadata": {
    "collapsed": false
   },
   "outputs": [
    {
     "name": "stdout",
     "output_type": "stream",
     "text": [
      "SVM Prediction Accuracy w/ Parameter Changes = 100.0%\n"
     ]
    }
   ],
   "source": [
    "# Model in Problem 2\n",
    "# Use Test Set\n",
    "iris = datasets.load_iris()\n",
    "data = data_init.reindex(np.random.permutation(data_init.index))\n",
    "\n",
    "svc = svm.SVC(kernel='poly', C=1.0, gamma='auto', max_iter=-1, probability=False, shrinking=False, degree=6, tol=0.0005, random_state=1000)\n",
    "svc.fit(test[['petal_length', 'petal_width']], test['species'])\n",
    "\n",
    "print(\"SVM Prediction Accuracy w/ Parameter Changes = {0:5.1f}%\".format(100.0 * svc.score(test[['petal_length', 'petal_width']], test['species'])))"
   ]
  },
  {
   "cell_type": "code",
   "execution_count": 45,
   "metadata": {
    "collapsed": false
   },
   "outputs": [
    {
     "name": "stdout",
     "output_type": "stream",
     "text": [
      "kNN Results when k=9: 95.65217391304348%\n"
     ]
    }
   ],
   "source": [
    "# kNN Model using k=9\n",
    "# Use Test Set\n",
    "k_Results = []\n",
    "k = 9\n",
    "for i in range(0, len(development)):\n",
    "    k_Results.append(classify(development.iloc[[i]], test, k))\n",
    "print('kNN Results when k=9: {}%'.format(get_accuracy(k_Results, development)))"
   ]
  },
  {
   "cell_type": "markdown",
   "metadata": {},
   "source": [
    "The SVM prediction vs. the kNN evaluated on the test set resulted in some interesting results. My thinking is because the iris set is designed to be linearly separable, the SVM is more likely to be more accurate."
   ]
  }
 ],
 "metadata": {
  "anaconda-cloud": {},
  "kernelspec": {
   "display_name": "Python [Root]",
   "language": "python",
   "name": "Python [Root]"
  },
  "language_info": {
   "codemirror_mode": {
    "name": "ipython",
    "version": 3
   },
   "file_extension": ".py",
   "mimetype": "text/x-python",
   "name": "python",
   "nbconvert_exporter": "python",
   "pygments_lexer": "ipython3",
   "version": "3.5.2"
  }
 },
 "nbformat": 4,
 "nbformat_minor": 0
}
