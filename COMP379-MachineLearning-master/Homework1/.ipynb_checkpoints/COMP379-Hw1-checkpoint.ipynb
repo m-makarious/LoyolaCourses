{
 "cells": [
  {
   "cell_type": "markdown",
   "metadata": {},
   "source": [
    "# Titanic Analysis Survival Rate -- Homework 1\n",
    "\n",
    "First and foremost, I would like to give full disclosure that I have not done machine learning work before. That being said, I will attempt to use machine learning techniques in order to identify the survival rate of the passengers aboard the Titanic to the best of my understanding and ability.\n",
    "\n",
    "### Basic Information:"
   ]
  },
  {
   "cell_type": "code",
   "execution_count": 78,
   "metadata": {
    "collapsed": true
   },
   "outputs": [],
   "source": [
    "# Mary B. Makarious\n",
    "# Homework 1 -- Titanic Dataset"
   ]
  },
  {
   "cell_type": "code",
   "execution_count": 79,
   "metadata": {
    "collapsed": true
   },
   "outputs": [],
   "source": [
    "# Import packages \n",
    "\n",
    "import csv # to read in the data\n",
    "import numpy as np\n",
    "import matplotlib.pyplot as plt # to visualize the data\n",
    "import random # for the mutation function\n",
    "\n",
    "# Keep everything in Jupyter\n",
    "%matplotlib inline "
   ]
  },
  {
   "cell_type": "markdown",
   "metadata": {},
   "source": [
    "### Reading in the data from the file"
   ]
  },
  {
   "cell_type": "code",
   "execution_count": 80,
   "metadata": {
    "collapsed": false
   },
   "outputs": [],
   "source": [
    "# Analyze first line of the file for the header \n",
    "# All subsequent data is sent to our data variable to be returned with the header to be analyzed\n",
    "\n",
    "def Read_Data(filename):\n",
    "    header = []\n",
    "    data = []\n",
    "    with open(filename, 'r') as csvfile:\n",
    "        # Read in data from .csv\n",
    "        reader = csv.reader(csvfile, delimiter=',', quotechar='\"') \n",
    "        counter =  0\n",
    "\n",
    "        for row in reader:   \n",
    "        # First row will be the header data.\n",
    "            if counter == 0: \n",
    "                header = row\n",
    "            else:    \n",
    "        # If it's not in the first row, it'll be added to our data.\n",
    "                data.append(row) \n",
    "            counter = counter + 1\n",
    "    return (header, data)\n",
    "\n",
    "# This function replaces missing values in the age column with '-1' \n",
    "# if there is no age, we can't use that part of the data\n",
    "\n",
    "def PrepProcess_Data(arr):\n",
    "    for i in range(0, len(arr)):\n",
    "        for j,x in enumerate(arr[i]):\n",
    "            if x=='': \n",
    "                arr[i][j]='-1'\n",
    "    return arr"
   ]
  },
  {
   "cell_type": "markdown",
   "metadata": {},
   "source": [
    "### Making Decisions with a Decision Tree\n",
    "##### Making decisions on who lives or dies via using a genetic decision tree\n",
    "It determines this by the decision tree and then returns the genetic algorithms value of dead or alive for that branch of the tree. The more paramaters this tree has, the more accurate it will be because the more specific you can get with the data."
   ]
  },
  {
   "cell_type": "code",
   "execution_count": 81,
   "metadata": {
    "collapsed": true
   },
   "outputs": [],
   "source": [
    "def Make_Decision(data, survivals, operators, check_against):\n",
    "    if Check_Bool(data[0], operators[0], check_against[0]):\n",
    "        if Check_Bool(data[1], operators[1], check_against[1]):\n",
    "            if Check_Bool(data[2], operators[2], check_against[2]):\n",
    "                if Check_Bool(data[3], operators[3], check_against[3]):\n",
    "                    return survivals[0]\n",
    "                else:\n",
    "                    return survivals[1]\n",
    "            else:\n",
    "                if Check_Bool(data[3], operators[3], check_against[3]):\n",
    "                    return survivals[2]\n",
    "                else:\n",
    "                    return survivals[3]\n",
    "        else:\n",
    "            if Check_Bool(data[2], operators[2], check_against[2]):\n",
    "                if Check_Bool(data[3], operators[3], check_against[3]):\n",
    "                    return survivals[4]\n",
    "                else:\n",
    "                    return survivals[5]\n",
    "            else:\n",
    "                if Check_Bool(data[3], operators[3], check_against[3]):\n",
    "                    return survivals[6]\n",
    "                else:\n",
    "                    return survivals[7]\n",
    "    else:\n",
    "        if Check_Bool(data[1], operators[1], check_against[1]):\n",
    "            if Check_Bool(data[2], operators[2], check_against[2]):\n",
    "                if Check_Bool(data[3], operators[3], check_against[3]):\n",
    "                    return survivals[8]\n",
    "                else:\n",
    "                    return survivals[9]\n",
    "            else:\n",
    "                if Check_Bool(data[3], operators[3], check_against[3]):\n",
    "                    return survivals[10]\n",
    "                else:\n",
    "                    return survivals[11]\n",
    "        else:\n",
    "            if Check_Bool(data[2], operators[2], check_against[2]):\n",
    "                if Check_Bool(data[3], operators[3], check_against[3]):\n",
    "                    return survivals[12]\n",
    "                else:\n",
    "                    return survivals[13]\n",
    "            else:\n",
    "                if Check_Bool(data[3], operators[3], check_against[3]):\n",
    "                    return survivals[14]\n",
    "                else:\n",
    "                    return survivals[15]"
   ]
  },
  {
   "cell_type": "markdown",
   "metadata": {},
   "source": [
    "### Making Mutations with the Genetic Tree\n",
    "##### This is to aid with the decision making \n",
    "This function just randomly changes one of the genetic markers in an organism. This is to try different mutations "
   ]
  },
  {
   "cell_type": "code",
   "execution_count": 82,
   "metadata": {
    "collapsed": true
   },
   "outputs": [],
   "source": [
    "def Mutate(survivals, operators, check_againsts, possible_ages, possible_sexes, possible_pclasses, possible_sibsps):\n",
    "    # Mutate the genetic \"markers\"\n",
    "    index = random.randrange(0, len(survivals))\n",
    "    if survivals[index] == True:\n",
    "        survivals[index] = False\n",
    "    else:\n",
    "        survivals[index] = True\n",
    "    # Mutate the operators and right hand sides of the if statements\n",
    "    possibles = [possible_ages, possible_sexes, possible_pclasses, possible_sibsps]\n",
    "    index = random.randrange(0, len(operators))\n",
    "    if type(check_againsts[index]) != str:\n",
    "        operators[index] = random.randrange(0, 5)\n",
    "    jindex = random.randrange(0, len(possibles[index]))\n",
    "    check_againsts[index] = possibles[index][jindex]\n",
    "    \n",
    "    return survivals, operators, check_againsts\n",
    "\n",
    "def Check_Bool(dat, operator, check_against):\n",
    "    # This is used as the if statement because we have variable right hand sides and more importantly variable operators to work with\n",
    "    if operator == 0:\n",
    "        if dat > check_against:\n",
    "            return True\n",
    "        return False\n",
    "    if operator == 1:\n",
    "        if dat >= check_against:\n",
    "            return True\n",
    "        return False\n",
    "    if operator == 2:\n",
    "        if dat == check_against:\n",
    "            return True\n",
    "        return False\n",
    "    if operator == 3:\n",
    "        if dat <= check_against:\n",
    "            return True\n",
    "        return False\n",
    "    if operator == 4:\n",
    "        if dat < check_against:\n",
    "            return True\n",
    "        return False"
   ]
  },
  {
   "cell_type": "markdown",
   "metadata": {
    "collapsed": true
   },
   "source": [
    "Getting the header information from the .csv file"
   ]
  },
  {
   "cell_type": "code",
   "execution_count": 83,
   "metadata": {
    "collapsed": false
   },
   "outputs": [],
   "source": [
    "# Get the header and data from the .csv file\n",
    "header, train = Read_Data('train.csv')\n",
    "# header, train = Read_Data('test.csv') "
   ]
  },
  {
   "cell_type": "markdown",
   "metadata": {},
   "source": [
    "### Making Decisions with a Decision Tree -- Preparation.\n",
    "##### Making decisions on who lives or dies via using a genetic decision tree¶\n",
    "It determines this by the decision tree and then returns the genetic algorithms value of dead or alive for that branch of the tree. The more paramaters this tree has, the more accurate it will be because the more specific you can get with the data.\n",
    "\n",
    "Prepping and reading the data in order to make arrays. "
   ]
  },
  {
   "cell_type": "code",
   "execution_count": 86,
   "metadata": {
    "collapsed": false
   },
   "outputs": [],
   "source": [
    "age_axis = header.index('Age') # which index is for age\n",
    "sex_axis = header.index('Sex') # which index is for sex\n",
    "survived_axis = header.index('Survived') # which index is for the survival of the person\n",
    "pclass_axis = header.index('Pclass') # which index is for the passenger class\n",
    "sibsp_axis = header.index('SibSp') # how many spouses and siblings on board\n",
    "\n",
    "# Initializing variables and storing data\n",
    "\n",
    "age_arr = [] \n",
    "sex_arr = []\n",
    "survived_arr = []\n",
    "pclass_arr = [] \n",
    "sibsp_arr = []\n",
    "survived_arr = []\n",
    "\n",
    "# How many generations to run through -- The more you run the higher your accuracy theoretically\n",
    "num_of_generations = 100 \n",
    "\n",
    "# How many different mutations to try\n",
    "num_of_organisms = 10 \n",
    "\n",
    "# These are the genetic 'markers' -- They tell each branch whether the person on that branch lived or died\n",
    "survivals = [] \n",
    "\n",
    "#0 for >, 1 for >=, 2 for ==, 3 for <=, 4 for <\n",
    "operators = [] \n",
    "\n",
    "# The boolean items to check against\n",
    "items_to_check = [] \n",
    "\n",
    "# Skip over any missing values \n",
    "\n",
    "train = PreProcess_Data(train)\n",
    "\n",
    "# Putting the data in separate lists to work with them\n",
    "\n",
    "for dat in train:\n",
    "    age_arr.append(int(float(dat[age_axis])))\n",
    "    sex_arr.append(dat[sex_axis])\n",
    "    pclass_arr.append(int(float(dat[pclass_axis])))\n",
    "    sibsp_arr.append(int(float(dat[sibsp_axis])))\n",
    "    survived_arr.append(int(float(dat[survived_axis])))\n",
    "\n",
    "\n",
    "# List of all of the arrays without duplicates so that we know what values are possible for each list\n",
    "    \n",
    "possible_ages = list(set(age_arr))\n",
    "possible_sexes = list(set(sex_arr))\n",
    "possible_pclasses = list(set(pclass_arr))\n",
    "possible_sibsps = list(set(sibsp_arr))\n",
    "        \n",
    "# Initialize the genetic markers\n",
    "for i in range(0, num_of_organisms):\n",
    "    items_to_check.append([])\n",
    "    operators.append([])\n",
    "    survivals.append([True, True, True, True, True, True, True, True, True, True, True, True, True, True, True, True])\n",
    "    \n",
    "    # Pick the values for the right hand side of the if statement \n",
    "    items_to_check[i].append(possible_ages[random.randrange(0, len(possible_ages))])\n",
    "    items_to_check[i].append(possible_sexes[random.randrange(0, len(possible_sexes))])\n",
    "    items_to_check[i].append(possible_pclasses[random.randrange(0, len(possible_pclasses))])\n",
    "    items_to_check[i].append(possible_sibsps[random.randrange(0, len(possible_sibsps))])\n",
    "    \n",
    "    # Pick the values for the operator of the if statement, for example:\n",
    "    # >, >=, ==, <=, <\n",
    "    # All strings and booleans are just == because they cannot be greater than or less than\n",
    "    if type(possible_ages[0]) != str and type(possible_ages[0]) != bool:\n",
    "        operators[i].append(random.randrange(0, 5))\n",
    "    else:\n",
    "        operators[i].append(2)\n",
    "\n",
    "    if type(possible_sexes[0]) != str and type(possible_sexes[0]) != bool:\n",
    "        operators[i].append(random.randrange(0, 5))\n",
    "    else:\n",
    "        operators[i].append(2)\n",
    "\n",
    "    if type(possible_pclasses[0]) != str and type(possible_pclasses[0]) != bool:\n",
    "        operators[i].append(random.randrange(0, 5))\n",
    "    else:\n",
    "        operators[i].append(2)\n",
    "\n",
    "    if type(possible_sibsps[0]) != str and type(possible_sibsps[0]) != bool:\n",
    "        operators[i].append(random.randrange(0, 5))\n",
    "    else:\n",
    "        operators[i].append(2)      "
   ]
  },
  {
   "cell_type": "markdown",
   "metadata": {},
   "source": [
    "## Running the Genetic Decision Tree\n",
    "Will run through the number of generations of organisms, mutate all of the ones in the generation, then run through each organism evaluating its performance.  \n",
    "This will also decide whether to keep or throw out the newest generation depending on if it has improved performance than the last. \n",
    "###### This will be run over and over again in order to get a more accurate estimate."
   ]
  },
  {
   "cell_type": "code",
   "execution_count": 87,
   "metadata": {
    "collapsed": false
   },
   "outputs": [],
   "source": [
    "# We need these values so that the accuracy cannot go backwards\n",
    "old_organism = survivals[0]\n",
    "old_percentage = 0\n",
    "\n",
    "# Variables for plotting \n",
    "tot_percentages = []\n",
    "indices = []\n",
    "\n",
    "# Run through all of the generations of organisms and add to the data\n",
    "for i in range(0, num_of_generations):\n",
    "    indices.append(i)\n",
    "    \n",
    "    # We need to mutate each organisms\n",
    "    for i in range(0, num_of_organisms):\n",
    "        survivals[i], operators[i], items_to_check[i] = Mutate(survivals[i], operators[i], items_to_check[i], possible_ages, possible_sexes, possible_pclasses, possible_sibsps)\n",
    "        \n",
    "    # Make a list of percentages so we can keep track of how correct each organism is\n",
    "    percentages = []\n",
    "    \n",
    "    # Run through all of the organisms\n",
    "    counter = 0\n",
    "    for survival in survivals:   \n",
    "        # How many correct counter vs how many total counter\n",
    "        num_correct = 0\n",
    "        num_tot = 0\n",
    "        \n",
    "        # Run through all of the data\n",
    "        for j in range(0, len(age_arr)):\n",
    "            # If there an age that exists\n",
    "            if age_arr[j] != -1:\n",
    "                \n",
    "                # Total increments by one\n",
    "                num_tot = num_tot + 1\n",
    "                \n",
    "                # Make the data\n",
    "                data = [age_arr[j], sex_arr[j], pclass_arr[j], sibsp_arr[j]]\n",
    "                \n",
    "                # Use the decision tree to see if they lived\n",
    "                survived = Make_Decision(data, survival, operators[counter], items_to_check[counter])\n",
    "                \n",
    "                # If right, then increment \n",
    "                if (survived_arr[j] == 1 and survived == True) or (survived_arr[j] == 0 and survived == False):\n",
    "                    num_correct = num_correct + 1\n",
    "                    \n",
    "        # Add the percentage correct to the list so we can keep track\n",
    "        percentages.append(float(num_correct) / float(num_tot))\n",
    "        counter = counter + 1\n",
    "        \n",
    "    # Determines which organism was the most correct\n",
    "    index = percentages.index(max(percentages))\n",
    "    \n",
    "    # Is it \"more correct\" than the previous best organism?\n",
    "    # If yes, then survival of the fittest says that it becomes the new parent\n",
    "    if max(percentages) > old_percentage:\n",
    "        \n",
    "        # Print out the data to keep track (optional)\n",
    "        # print('-' * 32)\n",
    "        # print(max(percentages))\n",
    "        # print('-' * 32)\n",
    "        \n",
    "        # Set all organsisms to the best one so they can use that as a parent for the next mutation\n",
    "        for i in range(0, num_of_organisms):\n",
    "            survivals[i] = survivals[index]\n",
    "            \n",
    "        # Set the variables holding the old percentage and parent to the best one from this generation\n",
    "        old_organism = survivals[index]\n",
    "        old_percentage = max(percentages)\n",
    "        tot_percentages.append(old_percentage)\n",
    "        \n",
    "    # If no, then throw out all of this generation and start again with the old parent\n",
    "    else:\n",
    "        # Print to keep track of the data (optional)\n",
    "        # print('-' * 32)\n",
    "        # print(old_percentage)    \n",
    "        # print('-' * 32)\n",
    "        \n",
    "        # Set all of the organisms to the parent so that the new generation can be mutated from it\n",
    "        for i in range(0, num_of_organisms):\n",
    "            survivals[i] = old_organism\n",
    "        tot_percentages.append(old_percentage)\n"
   ]
  },
  {
   "cell_type": "markdown",
   "metadata": {},
   "source": [
    "### Plotting\n",
    "Plotting to see how well the algorithm works"
   ]
  },
  {
   "cell_type": "code",
   "execution_count": 88,
   "metadata": {
    "collapsed": false
   },
   "outputs": [
    {
     "data": {
      "image/png": "[encoded data removed]",
      "text/plain": [
       "<matplotlib.figure.Figure at 0x1102819e8>"
      ]
     },
     "metadata": {},
     "output_type": "display_data"
    },
    {
     "name": "stdout",
     "output_type": "stream",
     "text": [
      "--------------------------------\n",
      "Accuracy as Determined by Genetic Tree\n",
      "0.803921568627451\n",
      "--------------------------------\n"
     ]
    }
   ],
   "source": [
    "plt.plot(indices, tot_percentages)\n",
    "plt.title('Generation Number vs Accuracy for Genetic Decision Tree')\n",
    "plt.ylabel('Accuray in %')\n",
    "plt.xlabel('Generation Number')\n",
    "plt.axis([0, num_of_generations - 1, 0, 1])\n",
    "plt.show()\n",
    "\n",
    "# Print out the data to keep track (optional)\n",
    "print('-' * 32)\n",
    "print('Accuracy as Determined by Genetic Tree')\n",
    "print(old_percentage)\n",
    "print('-' * 32)\n"
   ]
  },
  {
   "cell_type": "code",
   "execution_count": null,
   "metadata": {
    "collapsed": true
   },
   "outputs": [],
   "source": []
  }
 ],
 "metadata": {
  "anaconda-cloud": {},
  "kernelspec": {
   "display_name": "Python [Root]",
   "language": "python",
   "name": "Python [Root]"
  },
  "language_info": {
   "codemirror_mode": {
    "name": "ipython",
    "version": 3
   },
   "file_extension": ".py",
   "mimetype": "text/x-python",
   "name": "python",
   "nbconvert_exporter": "python",
   "pygments_lexer": "ipython3",
   "version": "3.5.2"
  },
  "nbpresent": {
   "slides": {},
   "themes": {
    "default": "a226d31f-e592-4198-a0fd-9b72b5b3e549",
    "theme": {
     "a226d31f-e592-4198-a0fd-9b72b5b3e549": {
      "backgrounds": {
       "backgroundColor": {
        "background-color": "backgroundColor",
        "id": "backgroundColor"
       }
      },
      "id": "a226d31f-e592-4198-a0fd-9b72b5b3e549",
      "palette": {
       "backgroundColor": {
        "id": "backgroundColor",
        "rgb": [
         256,
         256,
         256
        ]
       },
       "headingColor": {
        "id": "headingColor",
        "rgb": [
         0,
         0,
         0
        ]
       },
       "linkColor": {
        "id": "linkColor",
        "rgb": [
         0,
         0,
         139
        ]
       },
       "mainColor": {
        "id": "mainColor",
        "rgb": [
         0,
         0,
         0
        ]
       }
      },
      "rules": {
       "a": {
        "color": "linkColor"
       },
       "h1": {
        "color": "headingColor",
        "font-family": "News Cycle",
        "font-size": 7
       },
       "h2": {
        "color": "headingColor",
        "font-family": "News Cycle",
        "font-size": 5
       },
       "h3": {
        "color": "headingColor",
        "font-family": "News Cycle",
        "font-size": 3.75
       },
       "h4": {
        "color": "headingColor",
        "font-family": "News Cycle",
        "font-size": 3
       },
       "h5": {
        "color": "headingColor",
        "font-family": "News Cycle"
       },
       "h6": {
        "color": "headingColor",
        "font-family": "News Cycle"
       },
       "h7": {
        "color": "headingColor",
        "font-family": "News Cycle"
       },
       "li": {
        "color": "mainColor",
        "font-family": "Lato",
        "font-size": 5
       },
       "p": {
        "color": "mainColor",
        "font-family": "Lato",
        "font-size": 5
       }
      },
      "text-base": {
       "color": "mainColor",
       "font-family": "Lato",
       "font-size": 5
      }
     }
    }
   }
  }
 },
 "nbformat": 4,
 "nbformat_minor": 0
}
