{
 "cells": [
  {
   "cell_type": "code",
   "execution_count": 27,
   "metadata": {
    "collapsed": true
   },
   "outputs": [],
   "source": [
    "# importing packages \n",
    "import Bio\n",
    "from Bio.Seq import Seq\n",
    "import Bio.Alphabet\n",
    "from Bio.SeqUtils import GC"
   ]
  },
  {
   "cell_type": "markdown",
   "metadata": {},
   "source": [
    "https://github.com/cdeterman/Rosalind\n",
    "\n",
    "## Rosalind Bioinformatics Problem #001\n",
    "- Title: Counting DNA Nucleotides\n",
    "- Rosalind ID: DNA\n",
    "- Rosalind #: 001\n",
    "- URL: http://rosalind.info/problems/dna"
   ]
  },
  {
   "cell_type": "code",
   "execution_count": 21,
   "metadata": {},
   "outputs": [
    {
     "name": "stdout",
     "output_type": "stream",
     "text": [
      "Input data : AGCTTTTCATTCTGACTGCAACGGGCAATATGTCTCTGTGTGGATTAAAAAAAGAGTGTCTGATAGCAGC\n",
      "# of As:  20\n",
      "# of Cs:  12\n",
      "# of Gs:  17\n",
      "# of Ts:  21\n"
     ]
    }
   ],
   "source": [
    "file = open(\"/Users/mmakarious/Desktop/Python/Rosalind/Inputs/DNA001.txt\",\"r\")\n",
    "my_seq = file.readline().rstrip()\n",
    "file.close()\n",
    "print(\"Input data :\", my_seq)\n",
    "\n",
    "print (\"# of As: \", my_seq.count(\"A\"))\n",
    "print (\"# of Cs: \", my_seq.count(\"C\"))\n",
    "print (\"# of Gs: \", my_seq.count(\"G\"))\n",
    "print (\"# of Ts: \", my_seq.count(\"T\"))"
   ]
  },
  {
   "cell_type": "markdown",
   "metadata": {
    "collapsed": true
   },
   "source": [
    "## Rosalind Bioinformatics Problem #002\n",
    "- Title: Transcribing DNA into RNA\n",
    "- Rosalind ID: DNA\n",
    "- Rosalind #: 002\n",
    "- URL: http://rosalind.info/problems/rna/"
   ]
  },
  {
   "cell_type": "code",
   "execution_count": 20,
   "metadata": {},
   "outputs": [
    {
     "name": "stdout",
     "output_type": "stream",
     "text": [
      "Input data : GATGGAACTTGACTACGTAAATT\n",
      "RNA Sequence : GATGGAACTTGACTACGTAAATT\n"
     ]
    }
   ],
   "source": [
    "file = open(\"/Users/mmakarious/Desktop/Python/Rosalind/Inputs/RNA002.txt\",\"r\")\n",
    "\n",
    "# Remove all new lines\n",
    "data = file.read().replace('\\n','')\n",
    "file.close\n",
    "print(\"Input data :\", data)\n",
    "\n",
    "# Re-assign sequence as a DNA sequence\n",
    "RNAseq = Seq(data, Bio.Alphabet.IUPAC.unambiguous_dna)\n",
    "print (\"RNA Sequence :\", RNAseq)"
   ]
  },
  {
   "cell_type": "markdown",
   "metadata": {},
   "source": [
    "## Rosalind Bioinformatics Problem #003\n",
    "- Title: Complementing a Strand of DNA\n",
    "- Rosalind ID: REVC\n",
    "- Rosalind #: 003\n",
    "- URL: http://rosalind.info/problems/revc/"
   ]
  },
  {
   "cell_type": "code",
   "execution_count": 19,
   "metadata": {},
   "outputs": [
    {
     "name": "stdout",
     "output_type": "stream",
     "text": [
      "Input data : AAAACCCGGT\n",
      "Reverse compliment : ACCGGGTTTT\n"
     ]
    }
   ],
   "source": [
    "file = open('/Users/mmakarious/Desktop/Python/Rosalind/Inputs/REVC003.txt', 'r')\n",
    "\n",
    "# Remove all new lines\n",
    "data = file.read().replace('\\n', '')\n",
    "file.close()\n",
    "print(\"Input data :\", data)\n",
    "\n",
    "reverse_c = Seq(data, Bio.Alphabet.IUPAC.unambiguous_dna)\n",
    "print (\"Reverse compliment :\", str(reverse_c.reverse_complement()))\n"
   ]
  },
  {
   "cell_type": "markdown",
   "metadata": {},
   "source": [
    "## Rosalind Bioinformatics Problem #004\n",
    "- Title: Rabbits and Recurrence Relations\n",
    "- Rosalind ID: FIB\n",
    "- Rosalind #: 004\n",
    "- URL: http://rosalind.info/problems/fib/"
   ]
  },
  {
   "cell_type": "code",
   "execution_count": 25,
   "metadata": {},
   "outputs": [
    {
     "name": "stdout",
     "output_type": "stream",
     "text": [
      "19\n",
      "[1, 1, 4, 7, 19]\n"
     ]
    }
   ],
   "source": [
    "# Take one month to reach reproductive maturity\n",
    "# n = number of months\n",
    "# k = number of pairs in litter\n",
    "\n",
    "# Calculating the total\n",
    "def fib(n,k):\n",
    "    # total number of rabbit pairs\n",
    "    a, b = 1, 1\n",
    "    for i in range(n-1):\n",
    "        a,b = b, b+(a*k)\n",
    "    return a\n",
    "\n",
    "# using a list function to return # of rabbits after each month\n",
    "def fib_list(n,k):\n",
    "    fib_table = []\n",
    "    for i in range(n):\n",
    "        if i < 2:\n",
    "            fib_table.append(1)\n",
    "        else:\n",
    "            fib_table.append(fib_table[-1] + fib_table[-2]*k)\n",
    "    return fib_table\n",
    "\n",
    "total_rabbits = fib(5,3)\n",
    "rabbits = fib_list(5,3)\n",
    "\n",
    "print (total_rabbits)\n",
    "print (rabbits)"
   ]
  },
  {
   "cell_type": "markdown",
   "metadata": {},
   "source": [
    "## Rosalind Bioinformatics Problem #005\n",
    "- Title: Computing GC Content\n",
    "- Rosalind ID: GC\n",
    "- Rosalind #: 005\n",
    "- URL: http://rosalind.info/problems/gc/"
   ]
  },
  {
   "cell_type": "code",
   "execution_count": 28,
   "metadata": {},
   "outputs": [],
   "source": [
    "file = open('/Users/mmakarious/Desktop/Python/Rosalind/Inputs/GC005.txt', 'r')\n",
    "\n",
    "raw_data = file.readlines()\n",
    "file.close()\n"
   ]
  },
  {
   "cell_type": "code",
   "execution_count": null,
   "metadata": {
    "collapsed": true
   },
   "outputs": [],
   "source": []
  }
 ],
 "metadata": {
  "kernelspec": {
   "display_name": "Python 3",
   "language": "python",
   "name": "python3"
  },
  "language_info": {
   "codemirror_mode": {
    "name": "ipython",
    "version": 3
   },
   "file_extension": ".py",
   "mimetype": "text/x-python",
   "name": "python",
   "nbconvert_exporter": "python",
   "pygments_lexer": "ipython3",
   "version": "3.6.1"
  }
 },
 "nbformat": 4,
 "nbformat_minor": 2
}
